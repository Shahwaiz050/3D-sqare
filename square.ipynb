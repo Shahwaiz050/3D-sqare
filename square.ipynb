{
 "cells": [
  {
   "cell_type": "markdown",
   "id": "c97f6323",
   "metadata": {},
   "source": [
    "# Draw 3D square using Turtle"
   ]
  },
  {
   "cell_type": "code",
   "execution_count": 9,
   "id": "30a890b7",
   "metadata": {},
   "outputs": [],
   "source": [
    "#import the turtle\n",
    "import turtle\n",
    "\n",
    "wn = turtle.Screen()\n",
    "bob = turtle.Turtle()\n",
    "\n",
    "bob.right(90)\n",
    "bob.forward(100)\n",
    "\n",
    "bob.left(90)\n",
    "bob.forward(120)\n",
    "\n",
    "bob.left(90)\n",
    "bob.forward(100)\n",
    "\n",
    "bob.left(90)\n",
    "bob.forward(120)\n",
    "\n",
    "bob.right(50)\n",
    "bob.forward(80)\n",
    "\n",
    "bob.right(130)\n",
    "bob.forward(120)\n",
    "\n",
    "bob.right(50)\n",
    "bob.forward(80)\n",
    "\n",
    "bob.right(130)\n",
    "bob.forward(120)\n",
    "\n",
    "bob.left(90)\n",
    "bob.forward(100)\n",
    "\n",
    "bob.right(135)\n",
    "bob.forward(75)\n",
    "\n",
    "bob.right(45)\n",
    "bob.forward(112)"
   ]
  }
 ],
 "metadata": {
  "kernelspec": {
   "display_name": "Python 3",
   "language": "python",
   "name": "python3"
  },
  "language_info": {
   "codemirror_mode": {
    "name": "ipython",
    "version": 3
   },
   "file_extension": ".py",
   "mimetype": "text/x-python",
   "name": "python",
   "nbconvert_exporter": "python",
   "pygments_lexer": "ipython3",
   "version": "3.8.8"
  }
 },
 "nbformat": 4,
 "nbformat_minor": 5
}
